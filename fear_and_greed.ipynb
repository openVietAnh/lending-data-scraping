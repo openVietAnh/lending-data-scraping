{
 "cells": [
  {
   "cell_type": "code",
   "execution_count": 1,
   "id": "3ccd51ef",
   "metadata": {},
   "outputs": [
    {
     "name": "stdout",
     "output_type": "stream",
     "text": [
      "2677\n"
     ]
    }
   ],
   "source": [
    "import requests\n",
    "response = requests.get('https://api.alternative.me/fng/?limit=0')\n",
    "data = response.json()[\"data\"]\n",
    "print(len(data))"
   ]
  },
  {
   "cell_type": "code",
   "execution_count": 2,
   "id": "d59864cb",
   "metadata": {},
   "outputs": [
    {
     "data": {
      "text/plain": [
       "{'value': '62',\n",
       " 'value_classification': 'Greed',\n",
       " 'timestamp': '1748995200',\n",
       " 'time_until_update': '53608'}"
      ]
     },
     "execution_count": 2,
     "metadata": {},
     "output_type": "execute_result"
    }
   ],
   "source": [
    "data[0]"
   ]
  },
  {
   "cell_type": "code",
   "execution_count": 3,
   "id": "85d062fc",
   "metadata": {},
   "outputs": [
    {
     "data": {
      "text/plain": [
       "{'value': '30', 'value_classification': 'Fear', 'timestamp': '1517443200'}"
      ]
     },
     "execution_count": 3,
     "metadata": {},
     "output_type": "execute_result"
    }
   ],
   "source": [
    "data[-1]"
   ]
  },
  {
   "cell_type": "code",
   "execution_count": null,
   "id": "70b815e6",
   "metadata": {},
   "outputs": [],
   "source": [
    "import datetime\n",
    "import csv\n",
    "rows = []\n",
    "for item in data[::-1]:\n",
    "    r = {}\n",
    "    r[\"value\"] = item[\"value\"]\n",
    "    r[\"value_classification\"] = item[\"value_classification\"]\n",
    "    r[\"timestamp\"] = datetime.datetime.fromtimestamp(int(item[\"timestamp\"]), tz=datetime.timezone.utc).strftime(\"%Y/%m/%d %H:%M\")\n",
    "    rows.append(r)\n",
    "\n",
    "with open('./fear_and_greed.csv', 'w', newline='') as output_file:\n",
    "    DICT_WRITER = csv.DictWriter(output_file, [\"timestamp\", \"value\", \"value_classification\"])\n",
    "    DICT_WRITER.writeheader()\n",
    "    DICT_WRITER.writerows(rows)"
   ]
  },
  {
   "cell_type": "code",
   "execution_count": null,
   "id": "541a2b26",
   "metadata": {},
   "outputs": [],
   "source": []
  }
 ],
 "metadata": {
  "kernelspec": {
   "display_name": "Python 3",
   "language": "python",
   "name": "python3"
  },
  "language_info": {
   "codemirror_mode": {
    "name": "ipython",
    "version": 3
   },
   "file_extension": ".py",
   "mimetype": "text/x-python",
   "name": "python",
   "nbconvert_exporter": "python",
   "pygments_lexer": "ipython3",
   "version": "3.13.3"
  }
 },
 "nbformat": 4,
 "nbformat_minor": 5
}
